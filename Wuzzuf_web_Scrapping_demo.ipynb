{
 "cells": [
  {
   "cell_type": "markdown",
   "id": "f4c06c16",
   "metadata": {},
   "source": [
    "### 1) Imporing libraries"
   ]
  },
  {
   "cell_type": "code",
   "execution_count": 121,
   "id": "25a77c0a",
   "metadata": {},
   "outputs": [],
   "source": [
    "import numpy as np\n",
    "import pandas as pd\n",
    "from bs4 import BeautifulSoup as BS\n",
    "from urllib.request import urlopen"
   ]
  },
  {
   "cell_type": "markdown",
   "id": "5b5a1c37",
   "metadata": {},
   "source": [
    "### 2)Access the website URL"
   ]
  },
  {
   "cell_type": "code",
   "execution_count": 122,
   "id": "c9a5bb12",
   "metadata": {},
   "outputs": [],
   "source": [
    "url = 'https://wuzzuf.net/search/jobs/?a=hpb&filters%5Bpost_date%5D%5B0%5D=within_1_week&filters%5Broles%5D%5B0%5D=Engineering%20-%20Telecom%2FTechnology&q='"
   ]
  },
  {
   "cell_type": "markdown",
   "id": "36da507e",
   "metadata": {},
   "source": [
    "### 3) Create a client-based request to access the URL"
   ]
  },
  {
   "cell_type": "code",
   "execution_count": 123,
   "id": "efbc2900",
   "metadata": {},
   "outputs": [],
   "source": [
    "MyRequest = urlopen(url)"
   ]
  },
  {
   "cell_type": "markdown",
   "id": "f73e0fad",
   "metadata": {},
   "source": [
    "### 4) Get the full HTML page source code"
   ]
  },
  {
   "cell_type": "code",
   "execution_count": 124,
   "id": "4572c1a9",
   "metadata": {},
   "outputs": [],
   "source": [
    "html = MyRequest.read()"
   ]
  },
  {
   "cell_type": "markdown",
   "id": "10c9bb65",
   "metadata": {},
   "source": [
    "### 5) Close the connection"
   ]
  },
  {
   "cell_type": "code",
   "execution_count": 125,
   "id": "8168e8a9",
   "metadata": {},
   "outputs": [],
   "source": [
    "MyRequest.close()"
   ]
  },
  {
   "cell_type": "markdown",
   "id": "bad02f38",
   "metadata": {},
   "source": [
    "### 6) Parsing the HTML"
   ]
  },
  {
   "cell_type": "code",
   "execution_count": 130,
   "id": "3fc60ae3",
   "metadata": {},
   "outputs": [],
   "source": [
    "soup = BS(html,\"html.parser\")"
   ]
  },
  {
   "cell_type": "markdown",
   "id": "1f2be6c3",
   "metadata": {},
   "source": [
    "### 7) Building a container that contains the main repeated element in the web page"
   ]
  },
  {
   "cell_type": "code",
   "execution_count": 107,
   "id": "e7f9421c",
   "metadata": {},
   "outputs": [],
   "source": [
    "containers = soup.find_all(\"div\",{\"class\":\"css-1gatmva e1v1l3u10\"})"
   ]
  },
  {
   "cell_type": "code",
   "execution_count": 108,
   "id": "c4862e8e",
   "metadata": {},
   "outputs": [
    {
     "data": {
      "text/plain": [
       "15"
      ]
     },
     "execution_count": 108,
     "metadata": {},
     "output_type": "execute_result"
    }
   ],
   "source": [
    "len(containers)"
   ]
  },
  {
   "cell_type": "code",
   "execution_count": 109,
   "id": "ac9d75f8",
   "metadata": {},
   "outputs": [
    {
     "data": {
      "text/plain": [
       "'<div class=\"css-1gatmva e1v1l3u10\">\\n <style data-emotion=\"css pkv5jc\">\\n  .css-pkv5jc{position:relative;min-height:60px;}\\n </style>\\n <div class=\"css-pkv5jc\">\\n  <a href=\"https://wuzzuf.net/jobs/careers/Equevu-Jordan-81091\" rel=\"noreferrer\" target=\"_blank\">\\n   <style data-emotion=\"css 17095x3\">\\n    .css-17095x3{position:absolute;right:0;top:0;width:60px;height:60px;object-fit:contain;object-position:center center;}\\n   </style>\\n  </a>\\n  <style data-emotion=\"css laomuu\">\\n   .css-laomuu{padding-right:60px;}\\n  </style>\\n  <div class=\"css-laomuu\">\\n   <style data-emotion=\"css m604qf\">\\n    .css-m604qf{font-size:16px;font-weight:600;font-style:normal;letter-spacing:-0.4px;line-height:24px;color:#0055D9;margin:0;}\\n   </style>\\n   <h2 class=\"css-m604qf\">\\n    <style data-emotion=\"css o171kl\">\\n     .css-o171kl{-webkit-text-decoration:none;text-decoration:none;color:inherit;}\\n    </style>\\n    <a class=\"css-o171kl\" href=\"/jobs/p/q4UT2aLoQGEP-Intermediate-FullStack-Developer-Remote-Equevu-Abu-Dhabi-United-Arab-Emirates?o=1&amp;l=sp&amp;t=sj&amp;a=search-v3|hpb\" rel=\"noreferrer\" target=\"_blank\">\\n     Intermediate FullStack Developer (Remote)\\n    </a>\\n   </h2>\\n   <style data-emotion=\"css d7j1kk\">\\n    .css-d7j1kk{margin-bottom:8px;overflow:hidden;text-overflow:ellipsis;}\\n   </style>\\n   <div class=\"css-d7j1kk\">\\n    <style data-emotion=\"css 17s97q8\">\\n     .css-17s97q8{font-size:12px;font-weight:600;font-style:normal;letter-spacing:-0.27px;line-height:19px;color:#001433;-webkit-text-decoration:none;text-decoration:none;}\\n    </style>\\n    <a class=\"css-17s97q8\" href=\"https://wuzzuf.net/jobs/careers/Equevu-Jordan-81091\" rel=\"noreferrer\" target=\"_blank\">\\n     Equevu -\\n    </a>\\n    <style data-emotion=\"css 5wys0k\">\\n     .css-5wys0k{font-size:12px;font-weight:600;font-style:normal;letter-spacing:-0.27px;line-height:19px;color:#4D6182;}\\n    </style>\\n    <span class=\"css-5wys0k\">\\n     Abu Dhabi,\\n     <!-- -->\\n     United Arab Emirates\\n    </span>\\n    <style data-emotion=\"css 4c4ojb\">\\n     .css-4c4ojb{font-size:12px;font-weight:400;font-style:normal;letter-spacing:-0.27px;line-height:19px;color:#2C9266;}\\n    </style>\\n    <div class=\"css-4c4ojb\">\\n     3 hours\\n     <!-- -->\\n     ago\\n    </div>\\n   </div>\\n  </div>\\n  <style data-emotion=\"css y4udm8\">\\n   .css-y4udm8{font-size:13px;font-weight:600;font-style:normal;letter-spacing:-0.3px;line-height:20px;color:#4D6182;}\\n  </style>\\n  <div class=\"css-y4udm8\">\\n   <style data-emotion=\"css 1lh32fc\">\\n    .css-1lh32fc{display:-webkit-box;display:-webkit-flex;display:-ms-flexbox;display:flex;margin-bottom:8px;-webkit-align-items:center;-webkit-box-align:center;-ms-flex-align:center;align-items:center;-webkit-box-flex-wrap:wrap;-webkit-flex-wrap:wrap;-ms-flex-wrap:wrap;flex-wrap:wrap;}\\n   </style>\\n   <div class=\"css-1lh32fc\">\\n    <style data-emotion=\"css n2jc4m\">\\n     .css-n2jc4m{display:-webkit-inline-box;display:-webkit-inline-flex;display:-ms-inline-flexbox;display:inline-flex;-webkit-align-items:center;-webkit-box-align:center;-ms-flex-align:center;align-items:center;-webkit-text-decoration:none;text-decoration:none;color:inherit;margin-bottom:4px;}\\n    </style>\\n    <a class=\"css-n2jc4m\" href=\"/a/Full-Time-Jobs-in-United-Arab-Emirates\">\\n     <style data-emotion=\"css adtuo7\">\\n      .css-adtuo7{cursor:pointer;padding:0 4px;border-radius:4px;}\\n     </style>\\n     <style data-emotion=\"css 1ve4b75\">\\n      .css-1ve4b75{font-size:12px;font-weight:600;display:-webkit-inline-box;display:-webkit-inline-flex;display:-ms-inline-flexbox;display:inline-flex;-webkit-align-items:center;-webkit-box-align:center;-ms-flex-align:center;align-items:center;min-height:20px;margin-right:4px;border-radius:2px;max-width:196px;white-space:nowrap;overflow:hidden;cursor:default;text-overflow:ellipsis;padding:2px 4px;background-color:#EBEDF0;color:#001433;cursor:pointer;padding:0 4px;border-radius:4px;}\\n     </style>\\n     <span class=\"css-1ve4b75 eoyjyou0\">\\n      Full Time\\n     </span>\\n    </a>\\n   </div>\\n   <div>\\n    <a class=\"css-o171kl\" href=\"/a/Experienced-Jobs-in-United-Arab-Emirates\">\\n     Experienced\\n    </a>\\n    <span>\\n     ·\\n     <!-- -->\\n     2 - 4 Yrs of Exp\\n    </span>\\n    <a class=\"css-o171kl\" href=\"/a/Accounting-Finance-Jobs-in-United-Arab-Emirates\">\\n     <!-- -->\\n     ·\\n     <!-- -->\\n     Accounting/Finance\\n    </a>\\n    <a class=\"css-o171kl\" href=\"/a/IT-Software-Development-Jobs-in-United-Arab-Emirates\">\\n     <!-- -->\\n     ·\\n     <!-- -->\\n     IT/Software Development\\n    </a>\\n    <a class=\"css-o171kl\" href=\"/a/Engineering-Telecom-Technology-Jobs-in-United-Arab-Emirates\">\\n     <!-- -->\\n     ·\\n     <!-- -->\\n     Engineering - Telecom/Technology\\n    </a>\\n    <style data-emotion=\"css 5x9pm1\">\\n     .css-5x9pm1{-webkit-text-decoration:none;text-decoration:none;color:inherit;max-width:calc(100vw / 2 - 32px);white-space:nowrap;overflow:hidden;text-overflow:ellipsis;display:-webkit-inline-box;display:-webkit-inline-flex;display:-ms-inline-flexbox;display:inline-flex;}\\n    </style>\\n    <a class=\"css-5x9pm1\" href=\"/a/JavaScript-Jobs-in-United-Arab-Emirates\">\\n     <!-- -->\\n     ·\\n     <!-- -->\\n     JavaScript\\n    </a>\\n    <a class=\"css-5x9pm1\" href=\"/a/Python-Jobs-in-United-Arab-Emirates\">\\n     <!-- -->\\n     ·\\n     <!-- -->\\n     Python\\n    </a>\\n    <a class=\"css-5x9pm1\" href=\"/a/ReactJS-Jobs-in-United-Arab-Emirates\">\\n     <!-- -->\\n     ·\\n     <!-- -->\\n     ReactJS\\n    </a>\\n    <a class=\"css-5x9pm1\" href=\"/a/Software-Development-Jobs-in-United-Arab-Emirates\">\\n     <!-- -->\\n     ·\\n     <!-- -->\\n     Software Development\\n    </a>\\n    <a class=\"css-5x9pm1\" href=\"/a/Computer-Science-Jobs-in-United-Arab-Emirates\">\\n     <!-- -->\\n     ·\\n     <!-- -->\\n     Computer Science\\n    </a>\\n    <a class=\"css-5x9pm1\" href=\"/a/Computer-Engineering-Jobs-in-United-Arab-Emirates\">\\n     <!-- -->\\n     ·\\n     <!-- -->\\n     Computer Engineering\\n    </a>\\n    <a class=\"css-5x9pm1\" href=\"/a/Engineering-Jobs-in-United-Arab-Emirates\">\\n     <!-- -->\\n     ·\\n     <!-- -->\\n     Engineering\\n    </a>\\n   </div>\\n  </div>\\n </div>\\n</div>\\n'"
      ]
     },
     "execution_count": 109,
     "metadata": {},
     "output_type": "execute_result"
    }
   ],
   "source": [
    "BS.prettify(containers[0])"
   ]
  },
  {
   "cell_type": "markdown",
   "id": "32a04e12",
   "metadata": {},
   "source": [
    "### 8) Parse the container to fitch specific elements "
   ]
  },
  {
   "cell_type": "code",
   "execution_count": 110,
   "id": "04fdcd5d",
   "metadata": {},
   "outputs": [],
   "source": [
    "jTitle = containers[0].findAll('h2',{'class':'css-m604qf'})[0].text"
   ]
  },
  {
   "cell_type": "code",
   "execution_count": 111,
   "id": "082d2993",
   "metadata": {},
   "outputs": [],
   "source": [
    "cName = containers[0].findAll('a',{'class':'css-17s97q8'})[0].text\n"
   ]
  },
  {
   "cell_type": "code",
   "execution_count": 112,
   "id": "21ae1e50",
   "metadata": {},
   "outputs": [],
   "source": [
    "Location = containers[0].findAll('span',{'class':'css-5wys0k'})[0].text\n"
   ]
  },
  {
   "cell_type": "code",
   "execution_count": 113,
   "id": "a53fecfb",
   "metadata": {},
   "outputs": [],
   "source": [
    "Time = containers[0].findAll('div',{'class':'css-4c4ojb'})[0].text"
   ]
  },
  {
   "cell_type": "code",
   "execution_count": 114,
   "id": "16b9ec67",
   "metadata": {},
   "outputs": [],
   "source": [
    "jType = containers[0].findAll('span',{'class':'css-1ve4b75 eoyjyou0'})[0].text"
   ]
  },
  {
   "cell_type": "code",
   "execution_count": 115,
   "id": "f4aef01b",
   "metadata": {},
   "outputs": [],
   "source": [
    "Level = containers[0].findAll('a',{'class':'css-o171kl'})[1].text"
   ]
  },
  {
   "cell_type": "markdown",
   "id": "91188c9c",
   "metadata": {},
   "source": [
    "### 9) Migrating our desired data"
   ]
  },
  {
   "cell_type": "code",
   "execution_count": 116,
   "id": "d941d05e",
   "metadata": {},
   "outputs": [],
   "source": [
    "jTitle = []\n",
    "cName = []\n",
    "Location =[]\n",
    "Time = []\n",
    "jType = []\n",
    "Level =[]\n",
    "    \n",
    "\n",
    "\n",
    "for data in range(len(containers)):\n",
    "\n",
    "    jTitle.append(containers[data].findAll('h2',{'class':'css-m604qf'})[0].text)\n",
    "    cName.append( containers[data].findAll('a',{'class':'css-17s97q8'})[0].text)\n",
    "    Location.append( (containers[data].findAll('span',{'class':'css-5wys0k'})[0].text).replace(',','-'))\n",
    "    Time.append( containers[data].findAll('div',{'class':'css-4c4ojb'})[0].text)\n",
    "    jType.append( containers[data].findAll('span',{'class':'css-1ve4b75 eoyjyou0'})[0].text)\n",
    "    Level.append( containers[data].findAll('a',{'class':'css-o171kl'})[1].text)\n",
    "    \n"
   ]
  },
  {
   "cell_type": "markdown",
   "id": "8ec0ba9f",
   "metadata": {},
   "source": [
    "### 10) Create an excel file to store the data"
   ]
  },
  {
   "cell_type": "code",
   "execution_count": 117,
   "id": "742714a3",
   "metadata": {},
   "outputs": [
    {
     "data": {
      "text/plain": [
       "44"
      ]
     },
     "execution_count": 117,
     "metadata": {},
     "output_type": "execute_result"
    }
   ],
   "source": [
    "file = open('Wuzzuf_Data.csv','w')\n",
    "headers = \"jTitle, cName, Location, Time, jType, Level\\n\"\n",
    "file.write(headers)"
   ]
  },
  {
   "cell_type": "markdown",
   "id": "67dc846b",
   "metadata": {},
   "source": [
    "### 11) Write each row of data to our excel file"
   ]
  },
  {
   "cell_type": "code",
   "execution_count": 118,
   "id": "4ff3898e",
   "metadata": {},
   "outputs": [
    {
     "name": "stdout",
     "output_type": "stream",
     "text": [
      "Intermediate FullStack Developer (Remote) ,Equevu - ,Abu Dhabi- United Arab Emirates  ,3 hours ago ,Full Time ,Experienced\n",
      "\n",
      "UI/UX Web Designer ,Nile Creations - ,Heliopolis- Cairo- Egypt  ,4 hours ago ,Full Time ,Experienced\n",
      "\n",
      "React Developer ,Confidential - ,Cairo- Egypt  ,6 hours ago ,Full Time ,Experienced\n",
      "\n",
      "Senior Front End Developer ,Qmind - ,Heliopolis- Cairo- Egypt  ,6 hours ago ,Full Time ,Experienced\n",
      "\n",
      "Microsoft Consultant ,Shift Consulting - ,Lisbon- Portugal  ,6 hours ago ,Volunteering ,Entry Level\n",
      "\n",
      "Senior UI/ UX Designer ,Qmind - ,Heliopolis- Cairo- Egypt  ,6 hours ago ,Full Time ,Experienced\n",
      "\n",
      "Senior QA Tester ,Qmind - ,Heliopolis- Cairo- Egypt  ,6 hours ago ,Full Time ,Experienced\n",
      "\n",
      "Senior Angular Developer ,RawafedTech - ,Nasr City- Cairo- Egypt  ,7 hours ago ,Full Time ,Experienced\n",
      "\n",
      "Hotel IT Manager ,Basma Hotel - ,Aswan- Aswan- Egypt  ,8 hours ago ,Full Time ,Manager\n",
      "\n",
      ".Net Team Leader ,International Advanced  - ,Nasr City- Cairo- Egypt  ,8 hours ago ,Full Time ,Manager\n",
      "\n",
      "System Senior Engineer ,Kandil Industries - ,10th of Ramadan City- Cairo- Egypt  ,8 hours ago ,Full Time ,Experienced\n",
      "\n",
      "Devops Engineer ,Egyptian Medical Syndicates Union - ,Garden City- Cairo- Egypt  ,8 hours ago ,Full Time ,Experienced\n",
      "\n",
      "React Native Developer ,42 Group - ,Cairo- Egypt  ,8 hours ago ,Full Time ,Experienced\n",
      "\n",
      "Database Administrator ,Egyptian Medical Syndicates Union - ,Garden City- Cairo- Egypt  ,8 hours ago ,Full Time ,Experienced\n",
      "\n",
      "Senior Full Stack Developer ,Egyptian Medical Syndicates Union - ,Garden City- Cairo- Egypt  ,8 hours ago ,Full Time ,Experienced\n",
      "\n"
     ]
    }
   ],
   "source": [
    "for i in range (len(jTitle)):\n",
    "    row = (jTitle[i] + \" ,\"+cName[i] + \" ,\"+Location[i] + \" ,\"+Time[i] + \" ,\"+jType[i] + \" ,\"+Level[i]+\"\\n\")\n",
    "    print(row)\n",
    "    file.write(row)\n",
    "file.close()"
   ]
  },
  {
   "cell_type": "markdown",
   "id": "a119b054",
   "metadata": {},
   "source": [
    "### Thanks :) \n",
    "# Bahaa Helmy"
   ]
  },
  {
   "cell_type": "code",
   "execution_count": null,
   "id": "467cf239",
   "metadata": {},
   "outputs": [],
   "source": []
  }
 ],
 "metadata": {
  "kernelspec": {
   "display_name": "Python 3",
   "language": "python",
   "name": "python3"
  },
  "language_info": {
   "codemirror_mode": {
    "name": "ipython",
    "version": 3
   },
   "file_extension": ".py",
   "mimetype": "text/x-python",
   "name": "python",
   "nbconvert_exporter": "python",
   "pygments_lexer": "ipython3",
   "version": "3.6.13"
  }
 },
 "nbformat": 4,
 "nbformat_minor": 5
}
